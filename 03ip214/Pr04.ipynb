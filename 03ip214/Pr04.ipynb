{
 "cells": [
  {
   "cell_type": "markdown",
   "id": "65ea7569-ae67-4db8-933e-e425f7487a5f",
   "metadata": {},
   "source": [
    "# Практическая работа №4"
   ]
  },
  {
   "cell_type": "markdown",
   "id": "c88b6718-2fea-4def-8db1-5621baf3349f",
   "metadata": {},
   "source": [
    "## Задание 3.1"
   ]
  },
  {
   "cell_type": "markdown",
   "id": "0ccf8cc9-b540-4c5c-9ea4-00cdb153961c",
   "metadata": {},
   "source": [
    "### а)"
   ]
  },
  {
   "cell_type": "code",
   "execution_count": 1,
   "id": "ec22d2d3-e0f2-45ad-9e81-9a372bc0273a",
   "metadata": {},
   "outputs": [],
   "source": [
    "class BankAccount:\n",
    "    # \"\"\" Абстрактный базовый класс, представляющий банковский счет.\"\"\"\n",
    "    currency = '$'\n",
    "    def __init__(self, customer, account_number, balance=0):\n",
    "        # \"\"\"\n",
    "        # Инициализация класса BankAccount значениями имени клиента, номера счета и\n",
    "        # баланса при открытии счета (по умолчанию 0).\n",
    "        # \"\"\"\n",
    "        try:\n",
    "            ccno = str(account_number)\n",
    "            ccl = []\n",
    "            for n in ccno:\n",
    "                if n == ' ':\n",
    "                    continue\n",
    "                ccl.append(int(n))\n",
    "            for i in range(0,16,2):\n",
    "                ccl[i] *= 2\n",
    "                if ccl[i] > 9:\n",
    "                    ccl[i] = 1 + (ccl[i] - 10)\n",
    "            checksum = sum(ccl) % 10\n",
    "            if checksum:\n",
    "                raise ValueError()\n",
    "            else:\n",
    "                self.account_number = account_number\n",
    "                self.customer = customer\n",
    "                self.balance = balance\n",
    "                print(ccno, 'is a valid credit card number')\n",
    "        except:\n",
    "            raise ValueError(f'{ccno} is not a valid credit card number')\n",
    "\n",
    "def deposit(self, amount):\n",
    "    \"\"\" Deposit amount into the bank account.\"\"\"\n",
    "    # \"\"\"Размер вклада на банковский счет.\"\"\"\n",
    "    if amount > 0:\n",
    "        self.balance += amount\n",
    "    else:\n",
    "        print('Invalid deposit amount:', amount)\n",
    "\n",
    "def withdraw(self, amount):\n",
    "    # \"\"\"\n",
    "    # Сумма средств, снимаемых с банковского счета, при условии достаточной суммы\n",
    "    # на этом счете.\n",
    "    # \"\"\"\n",
    " \n",
    "    if amount > 0:\n",
    "        if amount > self.balance:\n",
    "            print('Insufficient funds')\n",
    "        else:\n",
    "            self.balance -= amount\n",
    "    else:\n",
    "        print('Invalid withdrawal amount:', amount)\n"
   ]
  },
  {
   "cell_type": "code",
   "execution_count": 2,
   "id": "ddf7d39c-8500-4e54-9b15-fe7fccf52516",
   "metadata": {},
   "outputs": [
    {
     "name": "stdout",
     "output_type": "stream",
     "text": [
      "4556737586899855 is a valid credit card number\n"
     ]
    }
   ],
   "source": [
    "valid_account = BankAccount('Joe Bloggs', 4556737586899855)\n"
   ]
  },
  {
   "cell_type": "code",
   "execution_count": 3,
   "id": "ff4a1754-a506-4c92-8b80-17a524ebb99f",
   "metadata": {},
   "outputs": [
    {
     "ename": "ValueError",
     "evalue": "21457288 is not a valid credit card number",
     "output_type": "error",
     "traceback": [
      "\u001b[0;31m---------------------------------------------------------------------------\u001b[0m",
      "\u001b[0;31mIndexError\u001b[0m                                Traceback (most recent call last)",
      "Cell \u001b[0;32mIn[1], line 17\u001b[0m, in \u001b[0;36mBankAccount.__init__\u001b[0;34m(self, customer, account_number, balance)\u001b[0m\n\u001b[1;32m     16\u001b[0m \u001b[38;5;28;01mfor\u001b[39;00m i \u001b[38;5;129;01min\u001b[39;00m \u001b[38;5;28mrange\u001b[39m(\u001b[38;5;241m0\u001b[39m,\u001b[38;5;241m16\u001b[39m,\u001b[38;5;241m2\u001b[39m):\n\u001b[0;32m---> 17\u001b[0m     \u001b[43mccl\u001b[49m\u001b[43m[\u001b[49m\u001b[43mi\u001b[49m\u001b[43m]\u001b[49m \u001b[38;5;241m*\u001b[39m\u001b[38;5;241m=\u001b[39m \u001b[38;5;241m2\u001b[39m\n\u001b[1;32m     18\u001b[0m     \u001b[38;5;28;01mif\u001b[39;00m ccl[i] \u001b[38;5;241m>\u001b[39m \u001b[38;5;241m9\u001b[39m:\n",
      "\u001b[0;31mIndexError\u001b[0m: list index out of range",
      "\nDuring handling of the above exception, another exception occurred:\n",
      "\u001b[0;31mValueError\u001b[0m                                Traceback (most recent call last)",
      "Cell \u001b[0;32mIn[3], line 1\u001b[0m\n\u001b[0;32m----> 1\u001b[0m not_valid_account \u001b[38;5;241m=\u001b[39m \u001b[43mBankAccount\u001b[49m\u001b[43m(\u001b[49m\u001b[38;5;124;43m'\u001b[39;49m\u001b[38;5;124;43mJoe Bloggs\u001b[39;49m\u001b[38;5;124;43m'\u001b[39;49m\u001b[43m,\u001b[49m\u001b[43m \u001b[49m\u001b[38;5;241;43m21457288\u001b[39;49m\u001b[43m)\u001b[49m\n",
      "Cell \u001b[0;32mIn[1], line 29\u001b[0m, in \u001b[0;36mBankAccount.__init__\u001b[0;34m(self, customer, account_number, balance)\u001b[0m\n\u001b[1;32m     27\u001b[0m         \u001b[38;5;28mprint\u001b[39m(ccno, \u001b[38;5;124m'\u001b[39m\u001b[38;5;124mis a valid credit card number\u001b[39m\u001b[38;5;124m'\u001b[39m)\n\u001b[1;32m     28\u001b[0m \u001b[38;5;28;01mexcept\u001b[39;00m:\n\u001b[0;32m---> 29\u001b[0m     \u001b[38;5;28;01mraise\u001b[39;00m \u001b[38;5;167;01mValueError\u001b[39;00m(\u001b[38;5;124mf\u001b[39m\u001b[38;5;124m'\u001b[39m\u001b[38;5;132;01m{\u001b[39;00mccno\u001b[38;5;132;01m}\u001b[39;00m\u001b[38;5;124m is not a valid credit card number\u001b[39m\u001b[38;5;124m'\u001b[39m)\n",
      "\u001b[0;31mValueError\u001b[0m: 21457288 is not a valid credit card number"
     ]
    }
   ],
   "source": [
    "not_valid_account = BankAccount('Joe Bloggs', 21457288)"
   ]
  },
  {
   "cell_type": "markdown",
   "id": "25d7e0e0-6bc4-45b4-9377-7a7d39ebf1b1",
   "metadata": {},
   "source": [
    "### б)"
   ]
  },
  {
   "cell_type": "code",
   "execution_count": 20,
   "id": "e45a188b-2623-4190-a62f-88e21ca87e75",
   "metadata": {},
   "outputs": [],
   "source": [
    "class CurrentAccount(BankAccount):\n",
    "    # \"\"\" Класс, представляющий текущий (чековый) счет. \"\"\"\n",
    "    def __init__(self, customer, account_number, annual_fee, transaction_limit, overdraft, balance=0):\n",
    "        # \"\"\" Инициализация текущего счета. \"\"\"\n",
    "        self.annual_fee = annual_fee\n",
    "        self.transaction_limit = transaction_limit\n",
    "        self.overdraft = overdraft\n",
    "        super().__init__(customer, account_number, balance)\n",
    "        \n",
    "    def withdraw(self, amount):\n",
    "        # \"\"\"\n",
    "        # Снятие денежной суммы, если на счете имеется достаточно средств и снимаемая сумма\n",
    "        # меньше лимита, установленного для одной транзакции.\n",
    "        # \"\"\"\n",
    "        if amount <= (0 - self.overdraft):\n",
    "            print('Invalid withdrawal amount:', amount)\n",
    "            return\n",
    "        if amount > (self.balance + self.overdraft):\n",
    "            print('Insufficient funds')\n",
    "            return\n",
    "        if amount > self.transaction_limit:\n",
    "            print('{0:s}{1:.2f} exceeds the single transaction limit of {0:s}{2:.2f}'.format(self.currency, amount, self.transaction_limit))\n",
    "            return\n",
    "        self.balance -= amount\n",
    " \n",
    "    def apply_annual_fee(self):\n",
    "        # \"\"\" Удержание ежегодной оплаты с баланса счета. \"\"\"\n",
    "        self.balance = max(0., self.balance - self.annual_fee)\n",
    "\n",
    "    def print_balance(self):\n",
    "        # \"\"\" Вывод баланса счета. \"\"\"\n",
    "        print(self.balance)"
   ]
  },
  {
   "cell_type": "code",
   "execution_count": 25,
   "id": "fa420cc8-8bc8-495a-8158-0995b0b782f3",
   "metadata": {},
   "outputs": [
    {
     "name": "stdout",
     "output_type": "stream",
     "text": [
      "4556737586899855 is a valid credit card number\n"
     ]
    }
   ],
   "source": [
    "my_current = CurrentAccount('Alison Wicks', 4556737586899855, 20., 500, 100, 200)"
   ]
  },
  {
   "cell_type": "code",
   "execution_count": 26,
   "id": "229dc92c-aaa8-4773-9172-07c2dc8be422",
   "metadata": {},
   "outputs": [
    {
     "name": "stdout",
     "output_type": "stream",
     "text": [
      "-99\n"
     ]
    }
   ],
   "source": [
    "my_current.withdraw(299)\n",
    "my_current.print_balance()"
   ]
  },
  {
   "cell_type": "code",
   "execution_count": 27,
   "id": "07425750-b183-4c8c-b61b-ed41fd6a760d",
   "metadata": {},
   "outputs": [
    {
     "name": "stdout",
     "output_type": "stream",
     "text": [
      "Insufficient funds\n",
      "-99\n"
     ]
    }
   ],
   "source": [
    "my_current.withdraw(2)\n",
    "my_current.print_balance()"
   ]
  },
  {
   "cell_type": "code",
   "execution_count": null,
   "id": "edd27a00-5afb-420b-8022-2ea0e03a34f9",
   "metadata": {},
   "outputs": [],
   "source": []
  }
 ],
 "metadata": {
  "kernelspec": {
   "display_name": "Python 3 (ipykernel)",
   "language": "python",
   "name": "python3"
  },
  "language_info": {
   "codemirror_mode": {
    "name": "ipython",
    "version": 3
   },
   "file_extension": ".py",
   "mimetype": "text/x-python",
   "name": "python",
   "nbconvert_exporter": "python",
   "pygments_lexer": "ipython3",
   "version": "3.11.5"
  }
 },
 "nbformat": 4,
 "nbformat_minor": 5
}
