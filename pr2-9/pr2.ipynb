{
 "cells": [
  {
   "cell_type": "markdown",
   "metadata": {},
   "source": [
    "# Задание 3.0\n",
    "## a)"
   ]
  },
  {
   "cell_type": "code",
   "execution_count": null,
   "metadata": {},
   "outputs": [
    {
     "name": "stdout",
     "output_type": "stream",
     "text": [
      "Последовательность чисел градин для 27:  [27, 82, 41, 124, 62, 31, 94, 47, 142, 71, 214, 107, 322, 161, 484, 242, 121, 364, 182, 91, 274, 137, 412, 206, 103, 310, 155, 466, 233, 700, 350, 175, 526, 263, 790, 395, 1186, 593, 1780, 890, 445, 1336, 668, 334, 167, 502, 251, 754, 377, 1132, 566, 283, 850, 425, 1276, 638, 319, 958, 479, 1438, 719, 2158, 1079, 3238, 1619, 4858, 2429, 7288, 3644, 1822, 911, 2734, 1367, 4102, 2051, 6154, 3077, 9232, 4616, 2308, 1154, 577, 1732, 866, 433, 1300, 650, 325, 976, 488, 244, 122, 61, 184, 92, 46, 23, 70, 35, 106, 53, 160, 80, 40, 20, 10, 5, 16, 8, 4, 2, 1]\n"
     ]
    }
   ],
   "source": [
    "def hail_seq(n):\n",
    "    seq = [n]\n",
    "    while n != 1:\n",
    "        if n % 2 == 0:\n",
    "            n = n // 2\n",
    "        else:\n",
    "            n = 3 * n + 1\n",
    "        seq.append(n)\n",
    "    return seq\n",
    "\n",
    "print(\"Последовательность чисел градин для 27: \", hail_seq(27))"
   ]
  },
  {
   "cell_type": "markdown",
   "metadata": {},
   "source": [
    "## б)"
   ]
  },
  {
   "cell_type": "code",
   "execution_count": null,
   "metadata": {},
   "outputs": [],
   "source": [
    "def hail_seq_time(n):\n",
    "    seq = [n]\n",
    "    t = 0\n",
    "    while n != 1:\n",
    "        t += 1\n",
    "        if n % 2 == 0:\n",
    "            n = n // 2\n",
    "        else:\n",
    "            n = 3 * n + 1\n",
    "        seq.append(n)\n",
    "    return t\n",
    "\n",
    "x = int(input(\"Введите любое число от 1 до 100\"))\n",
    "while x < 1 or x > 100:\n",
    "    x = int(input(\"Введите любое число от 1 до 100\"))\n",
    "print(\"Время останова для числа\", x ,\"-\", hail_seq_time(x))"
   ]
  },
  {
   "cell_type": "markdown",
   "metadata": {},
   "source": [
    "# Задание 3.1"
   ]
  },
  {
   "cell_type": "code",
   "execution_count": 8,
   "metadata": {},
   "outputs": [
    {
     "name": "stdout",
     "output_type": "stream",
     "text": [
      "Ошибка: введите корректное целое число.\n"
     ]
    }
   ],
   "source": [
    "import sys\n",
    "\n",
    "def hail_seq(n):\n",
    "    seq = [n]\n",
    "    while n != 1:\n",
    "        if n % 2 == 0:\n",
    "            n = n // 2\n",
    "        else:\n",
    "            n = 3 * n + 1\n",
    "        seq.append(n)\n",
    "    return seq\n",
    "\n",
    "\n",
    "if len(sys.argv) != 2:\n",
    "    print(\"Ошибка: Укажите одно положительное целое число в командной строке.\")\n",
    "else:\n",
    "    try:\n",
    "        n = int(sys.argv[1])\n",
    "        if n > 0:\n",
    "            seq = hail_seq(n)\n",
    "            print(\"Последовательность чисел-градин для \", n, \"=\", seq)\n",
    "        else:\n",
    "            print(\"Ошибка: число должно быть положительным.\")\n",
    "    except ValueError:\n",
    "        print(\"Ошибка: введите корректное целое число.\")"
   ]
  },
  {
   "cell_type": "markdown",
   "metadata": {},
   "source": [
    "# Задание 3.2"
   ]
  },
  {
   "cell_type": "code",
   "execution_count": null,
   "metadata": {},
   "outputs": [
    {
     "ename": "ValueError",
     "evalue": "not enough values to unpack (expected 2, got 1)",
     "output_type": "error",
     "traceback": [
      "\u001b[1;31m---------------------------------------------------------------------------\u001b[0m",
      "\u001b[1;31mValueError\u001b[0m                                Traceback (most recent call last)",
      "Cell \u001b[1;32mIn[9], line 11\u001b[0m\n\u001b[0;32m      8\u001b[0m     d \u001b[38;5;241m=\u001b[39m \u001b[38;5;241m2\u001b[39m \u001b[38;5;241m*\u001b[39m R \u001b[38;5;241m*\u001b[39m math\u001b[38;5;241m.\u001b[39masin(math\u001b[38;5;241m.\u001b[39msqrt(haversin(phi2\u001b[38;5;241m-\u001b[39mphi1) \u001b[38;5;241m+\u001b[39m math\u001b[38;5;241m.\u001b[39mcos(phi1)\u001b[38;5;241m*\u001b[39mmath\u001b[38;5;241m.\u001b[39mcos(phi2)\u001b[38;5;241m*\u001b[39mhaversin(lambda2\u001b[38;5;241m-\u001b[39mlambda1)))\n\u001b[0;32m      9\u001b[0m     \u001b[38;5;28;01mreturn\u001b[39;00m d\n\u001b[1;32m---> 11\u001b[0m loc1, loc2 \u001b[38;5;241m=\u001b[39m sys\u001b[38;5;241m.\u001b[39margv[\u001b[38;5;241m1\u001b[39m:]\n\u001b[0;32m     12\u001b[0m phi1, lambda1 \u001b[38;5;241m=\u001b[39m [math\u001b[38;5;241m.\u001b[39mradians(\u001b[38;5;28mfloat\u001b[39m(x)) \u001b[38;5;28;01mfor\u001b[39;00m x \u001b[38;5;129;01min\u001b[39;00m loc1\u001b[38;5;241m.\u001b[39msplit(\u001b[38;5;124m'\u001b[39m\u001b[38;5;124m,\u001b[39m\u001b[38;5;124m'\u001b[39m)]\n\u001b[0;32m     13\u001b[0m phi2, lambda2 \u001b[38;5;241m=\u001b[39m [math\u001b[38;5;241m.\u001b[39mradians(\u001b[38;5;28mfloat\u001b[39m(x)) \u001b[38;5;28;01mfor\u001b[39;00m x \u001b[38;5;129;01min\u001b[39;00m loc2\u001b[38;5;241m.\u001b[39msplit(\u001b[38;5;124m'\u001b[39m\u001b[38;5;124m,\u001b[39m\u001b[38;5;124m'\u001b[39m)]\n",
      "\u001b[1;31mValueError\u001b[0m: not enough values to unpack (expected 2, got 1)"
     ]
    }
   ],
   "source": [
    "import sys\n",
    "import math\n",
    "\n",
    "def hav(arg):\n",
    "    return math.sin(arg / 2) ** 2\n",
    "\n",
    "def ras(t1, t2, R = 6378.1):\n",
    "    (p1, l1), (p2, l2) = t1, t2\n",
    "    d = 2 * R * math.asin(math.sqrt(hav(p2 - p1) + math.cos(p1) * math.cos(p2) * hav(l2 - l1)))\n",
    "    return d\n",
    "\n",
    "t1, t2 = sys.argv[1:]\n",
    "p1, l1 = [math.radians(float(x)) for x in t1.split(',')]\n",
    "p2, l2 = [math.radians(float(x)) for x in t2.split(',')]\n",
    "\n",
    "d = ras((p1, l1), (p2, l2))\n",
    "print(int(d), \"km\")"
   ]
  },
  {
   "cell_type": "markdown",
   "metadata": {},
   "source": [
    "# Задание 3.3"
   ]
  },
  {
   "cell_type": "code",
   "execution_count": null,
   "metadata": {},
   "outputs": [],
   "source": [
    "import os\n",
    "import math\n",
    "\n",
    "nfigs = 20\n",
    "HOME = 'C:\\\\'\n",
    "pathdir = os.path.join(HOME, 'test')\n",
    "if not os.path.exists(pathdir):\n",
    "    os.mkdir(pathdir)\n",
    "\n",
    "canvas_height, canvas_width = 500, 500\n",
    "cx, cy = canvas_height / 2, canvas_width / 2\n",
    "r1, r2 = 200, 20\n",
    "\n",
    "alphas = [2*math.pi / nfigs * n for n in range(nfigs)]\n",
    "\n",
    "for n, alpha in enumerate(alphas):\n",
    "    filename = os.path.join(pathdir, 'fig{:02d}.svg'.format(n))\n",
    "    with open(filename, 'w') as fo:\n",
    "        # SVG preamble\n",
    "        print(\"\"\"<?xml version=\"1.0\" encoding=\"utf-8\"?>\n",
    "                 <svg xmlns=\"http://www.w3.org/2000/svg\"\n",
    "                      xmlns:xlink=\"http://www.w3.org/1999/xlink\"\n",
    "                      width=\"{}\" height=\"{}\" style=\"background: {}\">\"\"\".format(\n",
    "                        canvas_width, canvas_height, '#ffffff'), file=fo)\n",
    "        print('<circle cx=\"{}\" cy=\"{}\" r=\"{}\" style=\"stroke: black;'\n",
    "              ' stroke-width: 2px; fill: none;\"/>'.format(cx, cy, r1),file=fo)\n",
    "        cx2, cy2 = cx+(r1-r2) * math.cos(alpha), cy+(r1-r2) * math.sin(alpha)\n",
    "        print('<circle cx=\"{}\" cy=\"{}\" r=\"{}\" style=\"stroke: red; fill: red;\"/>'\n",
    "                                .format(cx2, cy2, r2), file=fo)\n",
    "        print('</svg>', file=fo)"
   ]
  },
  {
   "cell_type": "markdown",
   "metadata": {},
   "source": [
    "# Задание 3.4"
   ]
  },
  {
   "cell_type": "code",
   "execution_count": null,
   "metadata": {},
   "outputs": [
    {
     "name": "stdout",
     "output_type": "stream",
     "text": [
      "Directory --f=c:\\Users\\arcad\\AppData\\Roaming\\jupyter\\runtime\\kernel-v361d2b849a01dba1829016a8ac7e0533b8d39edc0.json does not exist\n"
     ]
    },
    {
     "ename": "SystemExit",
     "evalue": "1",
     "output_type": "error",
     "traceback": [
      "An exception has occurred, use %tb to see the full traceback.\n",
      "\u001b[1;31mSystemExit\u001b[0m\u001b[1;31m:\u001b[0m 1\n"
     ]
    },
    {
     "name": "stderr",
     "output_type": "stream",
     "text": [
      "C:\\Users\\arcad\\AppData\\Local\\Packages\\PythonSoftwareFoundation.Python.3.11_qbz5n2kfra8p0\\LocalCache\\local-packages\\Python311\\site-packages\\IPython\\core\\interactiveshell.py:3585: UserWarning: To exit: use 'exit', 'quit', or Ctrl-D.\n",
      "  warn(\"To exit: use 'exit', 'quit', or Ctrl-D.\", stacklevel=1)\n"
     ]
    }
   ],
   "source": [
    "import os\n",
    "import sys\n",
    "\n",
    "months = ['jan', 'feb', 'mar', 'apr', 'may', 'jun',\n",
    "          'jul', 'aug', 'sep', 'oct', 'nov', 'dec']\n",
    "\n",
    "try:\n",
    "    dir_name = sys.argv[1]\n",
    "except IndexError:\n",
    "    print('Имя каталога не указано:')\n",
    "    print('{} <dir_name>'.format(sys.argv[0]))\n",
    "    sys.exit(1)\n",
    "\n",
    "if not os.path.exists(dir_name):\n",
    "    print('Каталога {} не существует'.format(dir_name))\n",
    "    sys.exit(1)\n",
    "\n",
    "for filename in os.listdir(dir_name):\n",
    "    try:\n",
    "        d, month, y = int(filename[5:7]), filename[8:11], int(filename[12:14])\n",
    "    except (IndexError, ValueError):\n",
    "        print('Пропуск файла', filename)\n",
    "        continue\n",
    "    \n",
    "    try:\n",
    "        m = months.index(month.lower())+1\n",
    "    except ValueError:\n",
    "        print('Пропуск файла {} (месяц не определен)'.format(filename))\n",
    "        continue\n",
    "    \n",
    "    newname = 'data-20{:02d}-{:02d}-{:02d}.txt'.format(y, m, d)\n",
    "    newpath = os.path.join(dir_name, newname)\n",
    "    oldpath = os.path.join(dir_name, filename)\n",
    "    print(oldpath, '->', newpath)\n",
    "    os.rename(oldpath, newpath)"
   ]
  }
 ],
 "metadata": {
  "kernelspec": {
   "display_name": "Python 3",
   "language": "python",
   "name": "python3"
  },
  "language_info": {
   "codemirror_mode": {
    "name": "ipython",
    "version": 3
   },
   "file_extension": ".py",
   "mimetype": "text/x-python",
   "name": "python",
   "nbconvert_exporter": "python",
   "pygments_lexer": "ipython3",
   "version": "3.11.9"
  }
 },
 "nbformat": 4,
 "nbformat_minor": 4
}
