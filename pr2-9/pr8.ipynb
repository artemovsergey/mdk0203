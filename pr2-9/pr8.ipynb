{
 "cells": [
  {
   "cell_type": "markdown",
   "id": "ba4db25e",
   "metadata": {},
   "source": [
    "# Практическая работа №8"
   ]
  },
  {
   "cell_type": "markdown",
   "id": "324fcbb5",
   "metadata": {},
   "source": [
    "## Задание 1"
   ]
  },
  {
   "cell_type": "code",
   "execution_count": 13,
   "id": "2fa726bc",
   "metadata": {},
   "outputs": [
    {
     "name": "stdout",
     "output_type": "stream",
     "text": [
      "6.07 µs ± 37.4 ns per loop (mean ± std. dev. of 7 runs, 100,000 loops each)\n",
      "31.7 µs ± 55.8 ns per loop (mean ± std. dev. of 7 runs, 10,000 loops each)\n"
     ]
    },
    {
     "data": {
      "text/plain": [
       "True"
      ]
     },
     "execution_count": 13,
     "metadata": {},
     "output_type": "execute_result"
    }
   ],
   "source": [
    "import numpy as np\n",
    "n = 512\n",
    "# Our input function is just random numbers\n",
    "f = np.random.rand(n)\n",
    "\n",
    "# Time the NumPy (Cooley-Tukey) DFT algorithm\n",
    "%timeit np.fft.fft(f)\n",
    "# 100000 loops, best of 3: 13.1 us per loop\n",
    "\n",
    "# Now calculate the DFT by direct summation\n",
    "k = np.arange(n)\n",
    "m = k.reshape((n, 1))\n",
    "w = np.exp(-2j * np.pi * m * k / n)\n",
    "%timeit np.dot(w, f)\n",
    "# 1000 loops, best of 3: 354 us per loop\n",
    "\n",
    "# Check the two methods produce the same result\n",
    "ftfast = np.fft.fft(f)\n",
    "ftslow = np.dot(w, f)\n",
    "np.allclose(ftfast, ftslow)"
   ]
  }
 ],
 "metadata": {
  "kernelspec": {
   "display_name": "Python 3 (ipykernel)",
   "language": "python",
   "name": "python3"
  },
  "language_info": {
   "codemirror_mode": {
    "name": "ipython",
    "version": 3
   },
   "file_extension": ".py",
   "mimetype": "text/x-python",
   "name": "python",
   "nbconvert_exporter": "python",
   "pygments_lexer": "ipython3",
   "version": "3.11.5"
  }
 },
 "nbformat": 4,
 "nbformat_minor": 5
}
